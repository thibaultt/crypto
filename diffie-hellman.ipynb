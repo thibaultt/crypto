{
 "cells": [
  {
   "cell_type": "markdown",
   "id": "aggregate-patient",
   "metadata": {},
   "source": [
    "# Échange de clés Diffie-Hellman"
   ]
  },
  {
   "cell_type": "markdown",
   "id": "guilty-universe",
   "metadata": {},
   "source": [
    "## HISTOIRE ET USAGE\n",
    "\n",
    "L'échange de clé Diffie-Hellman est une des premières méthodes d'échange sécurisé de clés cryptographiques impliquant la présence d'une clé publique et d'une clé privée. Ce protocole a été publié en 1976 par Whitfield Diffie et Martin Hellman, en s'inspirant des travaux de Ralph Merkle, l'un des inventeurs de la cryptographie par clé publique. En effet, Diffie-Hellman se base sur le puzzle de Merkle, qui se trouve être un jeu où un expéditeur envoie un certain nombre d'énigmes cryptographique à un receveur, qui devra effectuer des calculs pour récupérer un identifiant et une clé de session. Dans ce jeu, le receveur va choisir au hasard une des énigmes qui lui a été envoyé, la résoudre, puis renvoyer l'identifiant à l'expéditeur dans le but de lui notifier de la résolution de l'énigme choisie. L'expediteur recevant cet identifiant sait donc quelle clé de session sera utilisée pour communiquer avec le destinataire. L'intérêt d'un tel mécanisme est qu'un attaquant écoutant les échanges entre les 2 personnes, va peut-être intercepter l'identifiant, mais devra résoudre les énigmes pour récupérer la bonne clé de session, ce qui est beaucoup plus difficile que la résolution d'une seule énigme par le receveur.\n",
    "\n",
    "<div style=\"text-align:center\"><img src=\"./medias/Diffie-Hellman.png\" /></div>\n",
    "<div style=\"text-align:center\"><b><u>Les inventeurs de la méthode Diffie-Hellman</u></b></div>\n",
    "<br/>\n",
    "<br/>\n",
    "\n",
    "Diffie et Hellman ont complexifiés ce mécanisme de sécurité pour le rendre plus robuste et donc de pouvoir transmettre un secret dans un canal non-sécurisé. Effectivement, ce secret partagé combiné avec la clé privé de chacun des 2 parties, donnera la clé symmétrique utilisé pour la communication chiffrée."
   ]
  },
  {
   "cell_type": "markdown",
   "id": "analyzed-humanitarian",
   "metadata": {},
   "source": [
    "Aujourd'hui, nous utilisons Diffie-Hellman au quotidien, puisque ce protocole peut être utilisé pour transmettre des clés de manière sécurisé pour d'autres protocoles, tels que TLS, IPSec ou encore SSH. \n",
    "Étant donné que l'algorithme tend à créer une clé symmétrique, l'échange de clé Diffie-Hellman peut donc assurer le transfert de clés pour les algorithmes symétriques (algorithmes très utilisés pour transférer des données plus rapidement que les algorithmes asymétriques) et s'associer à d'autres protocoles pour fournir ce service de transfert sécurisé de clés. Cependant, Diffie-Hellman n'assure pas l'authentification des 2 parties lors de l'échange, il peut en conséquence, être appelé avec une méthode d'authentification (signature électronique par exemple)."
   ]
  },
  {
   "cell_type": "markdown",
   "id": "normal-saying",
   "metadata": {},
   "source": [
    "## Base Mathématiques\n",
    "\n",
    "### Première implémentation\n",
    "\n",
    "Soit $p$ un nombre premier.   \n",
    "On se place dans le groupe multiplicatif ($\\mathbf{Z}/p\\mathbf{Z}$, $*$)\n",
    "d'ordre $p$.  \n",
    "Soit $g$ $\\lt$ $p$. \n",
    "\n",
    "Dans le protocole d'échange de clé de Diffie-Hellman, $p$ et $g$ sont connus de tous.  \n",
    "Le secret partagé que les parties cherchent à obtenir sera _**secret**_  avec $1$ $\\lt$ _**secret**_ $\\lt$ $p$ $-$ $1$.  \n",
    "  \n",
    "\n",
    "#### Exemple protocole\n",
    "\n",
    "Prenons le cas simple où deux personnes $A$ et $B$ souhaitent obtenir un _**secret**_ partagé.  \n",
    "\n",
    "Soient $a$ la clé privée de $A$ et $b$ la clé privée de $B$.  \n",
    "\n",
    "Les clés privées de chacun sont définies aléatoirement. Les clés privées ne doivent être connues que de leur détenteur.\n",
    "\n",
    "L'obtention de clé publique à partir de la clé privée se fait comme suit :  \n",
    "Soient $K_A$ la clé publique de $A$ et $K_B$ la clé publique de $B$. \n",
    "\n",
    "On a : $K_A$ = $g^a$   $[ p ]$  \n",
    "       $K_B$ = $g^b$   $[ p ]$  \n",
    "\n",
    "\n",
    "Soient : "
   ]
  },
  {
   "cell_type": "code",
   "execution_count": 1,
   "id": "prerequisite-nerve",
   "metadata": {},
   "outputs": [],
   "source": [
    "p = 541\n",
    "g = 10\n",
    "\n",
    "a = 5\n",
    "b = 7"
   ]
  },
  {
   "cell_type": "markdown",
   "id": "rotary-virginia",
   "metadata": {},
   "source": [
    "Calcul des clés publiques :   \n",
    "$K_A$ :"
   ]
  },
  {
   "cell_type": "code",
   "execution_count": 2,
   "id": "front-american",
   "metadata": {},
   "outputs": [
    {
     "name": "stdout",
     "output_type": "stream",
     "text": [
      "K_A =  15\n"
     ]
    }
   ],
   "source": [
    "K_A = g^a % p\n",
    "print(\"K_A = \", K_A)"
   ]
  },
  {
   "cell_type": "markdown",
   "id": "incorporate-singing",
   "metadata": {},
   "source": [
    "$K_B$ :  "
   ]
  },
  {
   "cell_type": "code",
   "execution_count": 3,
   "id": "indoor-matter",
   "metadata": {
    "scrolled": true
   },
   "outputs": [
    {
     "name": "stdout",
     "output_type": "stream",
     "text": [
      "K_B =  13\n"
     ]
    }
   ],
   "source": [
    "K_B = g^b % p\n",
    "print(\"K_B = \", K_B)"
   ]
  },
  {
   "cell_type": "markdown",
   "id": "magnetic-medicare",
   "metadata": {},
   "source": [
    "On pose _**secret**_ $= K_B^a$ $ [ p ]$ = $K_A^b$ $[ p ]$\n",
    "\n",
    "Le _**secret**_ est le même pour $A$ et pour $B$, même si le calcul pour l'obtenir n'est pas le même. C'est pour cela que l'on parle de _**secret partagé**_.  \n",
    "\n",
    "Vérification:  \n",
    "$K^a_B$   $[  p  ] =$ $(g^b$   $[  p  ] )^a$ $[ p ] =$ $g^{ba}$ $ [ p ] =$  $g^{ab}$ $[ p ] =$  $(g^a$   $[  p  ] )^b$ $[ p ] =$ $K^b_A$    $[ p ]$\n",
    "\n",
    "Pour calculer le _**secret**_, $A$ et $B$ vont échanger leur clé publique.\n",
    "\n",
    "Calcul du _**secret**_ :  "
   ]
  },
  {
   "cell_type": "code",
   "execution_count": 4,
   "id": "modular-plane",
   "metadata": {},
   "outputs": [
    {
     "name": "stdout",
     "output_type": "stream",
     "text": [
      "Diffie Hellman ça marche !! secret :  8\n"
     ]
    }
   ],
   "source": [
    "secret_A = K_B^a % p\n",
    "secret_B = K_A^b % p\n",
    "\n",
    "if (secret_A == secret_B ):\n",
    "    print(\"Diffie Hellman ça marche !! secret : \", secret_A)\n",
    "else :\n",
    "    print (\"Diffie Hellman c'est nul :O\")"
   ]
  },
  {
   "cell_type": "markdown",
   "id": "presidential-screen",
   "metadata": {},
   "source": [
    "Le calcul $g^{ba}$ $ [ p ] =$  $g^{ab}$ $[ p ]$ est extrêmement long à calculer si les chiffres sont assez grands. La fiabilité de l'échange de clé Diffie-Hellman repose sur le fait qu'il est impossible de trouver $b$ si on possède $g$, $p$ et $K_B$ ($= g^b$   $[ p ]$  ) avec les moyens actuels.  \n",
    "Ce problème est appelé le problème du logarithme discret."
   ]
  },
  {
   "cell_type": "markdown",
   "id": "technical-congo",
   "metadata": {},
   "source": [
    "### A plusieurs\n",
    "\n",
    "Plusieurs personnes peuvent souhaiter partager un secret. Cela est aussi possible avec Diffie-Hellman.  \n",
    "Soient **N** personnes souhaitant partager un _**secret**_ de clé privée $a$, $b$, $c$, ... Il y a donc **N** clés privées.  \n",
    "$g$ et $p$ sont connus de tous.  \n",
    "\n",
    "Etape 1 à N-1 : chacun des participants sauf vous mettent le secret temporaire à la puissance de leur clé privée. Ici, une fuite du secret en construction n'a aucune incidence. En effet, même en possession de $g^{abc}$ et de $g^{bcd}$, il est impossible de déduire $g^{abcd}$.    \n",
    "Etape N : Elaboration du _**secret**_ : vous ajoutez à l'équation votre clé secrète.\n",
    "\n",
    "Il y a donc **N** étape pour établir le _**secret**_. Etant confidentiel, il ne peut être partagé et doit donc être recalculé pour chacun des participants. L'associativité permet d'obtenir le même _**secret**_ : on a bien $g^{(ab)c}$ $=$ $g^{a(bc)}$. On note de plus que la multiplication est ici commutative.  \n",
    "Il faut donc **N** étapes $*$ **N** personnes pour que tout le monde obtienne le _**secret**_ dans le pire des cas.\n",
    "\n",
    "Pour diminuer le nombre d'étapes, il est possible de dupliquer les clés intermédiaires.  \n",
    "\n",
    "Exemple :  "
   ]
  },
  {
   "cell_type": "code",
   "execution_count": 5,
   "id": "regular-boring",
   "metadata": {},
   "outputs": [
    {
     "name": "stdout",
     "output_type": "stream",
     "text": [
      "K_C =  1\n",
      "Diffie Hellman ça marche !! secret :  3\n"
     ]
    }
   ],
   "source": [
    "c = 11\n",
    "K_C = g^c % p\n",
    "print(\"K_C = \", K_C)\n",
    "\n",
    "pre_secret_A = K_B^c % p #Etape 1 : clé publique de B, Etape 2 : clé privée de C\n",
    "pre_secret_B = K_C^a % p #Etape 1 : clé publique de C, Etape 2 : clé privée de A\n",
    "pre_secret_C = K_A^b % p #Etape 1 : clé publique de A, Etape 2 : clé privée de B\n",
    "\n",
    "secret_A = pre_secret_A^a % p #Etape 3 : exposant de A\n",
    "secret_B = pre_secret_B^b % p #Etape 3 : exposant de B\n",
    "secret_C = pre_secret_C^c % p #Etape 3 : exposant de C\n",
    "\n",
    "if (secret_A == secret_B and secret_B == secret_C ):\n",
    "    print(\"Diffie Hellman ça marche !! secret : \", secret_A)\n",
    "else :\n",
    "    print (\"Diffie Hellman c'est nul :O\")"
   ]
  },
  {
   "cell_type": "markdown",
   "id": "distinguished-colorado",
   "metadata": {},
   "source": [
    "### Autres espaces\n",
    "\n",
    "La première démonstration de l'échange de clé Diffie-Hellman se faisait effectivement dans $\\mathbf{Z}/p\\mathbf{Z}$  où $p$ est premier. Cependant, le même principe est applicable dans un groupe cyclique fini quelconque ou même sur une courbe elliptique.  \n",
    "Il faut donc se placer dans un groupe fini et savoir le définir pour pouvoir ensuite calculer clé privée et _**secret**_."
   ]
  },
  {
   "cell_type": "markdown",
   "id": "southeast-roots",
   "metadata": {},
   "source": [
    "### Limitation crypto\n",
    "\n",
    "Les difficultés de l'échange de clé de Diffie-Hellman sont les mêmes que pour toute la crypto.  \n",
    "Dans le cas d'un groupe $\\mathbf{Z}/p\\mathbf{Z}$  où $p$ est premier, la première difficulté réside dans le fait de trouver un nombre premier (assez grand).  \n",
    "Il est ensuite question de génération d'aléa pour les clés privées des parties.\n"
   ]
  },
  {
   "cell_type": "markdown",
   "id": "addressed-stupid",
   "metadata": {},
   "source": [
    "### Fonctions utilisées après"
   ]
  },
  {
   "cell_type": "code",
   "execution_count": 6,
   "id": "suburban-philippines",
   "metadata": {},
   "outputs": [],
   "source": [
    "def chiffrement (secret, base, premier):\n",
    "    return (base ** secret) % premier\n",
    "\n",
    "def calcul_secret_partagé (secret_partagé, secret_privé, nombre_premier_partagé):\n",
    "    return (secret_partagé ** secret_privé) % nombre_premier_partagé"
   ]
  },
  {
   "cell_type": "markdown",
   "id": "favorite-nitrogen",
   "metadata": {},
   "source": [
    "## Example d'implémentation\n",
    "\n",
    "### Cas classique\n",
    "\n",
    "Dans cette example Alice et Bob s'envoient des messages secret sur un réseau non sécurisé en utilisant Diffie-Hellman.\n",
    "\n",
    "Eve fait une attaque Man in the Middle.\n",
    "\n",
    "Ce processus ce fait en trois étapes :"
   ]
  },
  {
   "cell_type": "markdown",
   "id": "medical-terrain",
   "metadata": {},
   "source": [
    "### 1) Initialisation\n",
    "<img src=\"medias/initialisation.png\" width=\"800\"/>\n",
    "\n",
    "##### Alice et Bob prépare chacun une clé privée :"
   ]
  },
  {
   "cell_type": "code",
   "execution_count": 7,
   "id": "informational-remove",
   "metadata": {},
   "outputs": [],
   "source": [
    "clé_privée_d_Alice = 100\n",
    "clé_privée_de_Bob = 200"
   ]
  },
  {
   "cell_type": "markdown",
   "id": "linear-childhood",
   "metadata": {},
   "source": [
    "##### Ensuite ils se mettent d'accord sur deux valeurs :"
   ]
  },
  {
   "cell_type": "code",
   "execution_count": 8,
   "id": "fatal-adolescent",
   "metadata": {},
   "outputs": [],
   "source": [
    "base_partagé = 1000\n",
    "premier_partagé = 42863"
   ]
  },
  {
   "cell_type": "markdown",
   "id": "wireless-terry",
   "metadata": {},
   "source": [
    "### 2) Calcul et Échange des clés publiques\n",
    "<img src=\"medias/echange.png\" width=\"800\"/>\n",
    "\n",
    "##### Alice calcul et envoye sa clé publique:"
   ]
  },
  {
   "cell_type": "code",
   "execution_count": 9,
   "id": "neither-wings",
   "metadata": {},
   "outputs": [
    {
     "name": "stdout",
     "output_type": "stream",
     "text": [
      "Clé publique d'Alice :  8425\n"
     ]
    }
   ],
   "source": [
    "clé_publique_d_Alice = chiffrement (clé_privée_d_Alice, base_partagé, premier_partagé) \n",
    "print(\"Clé publique d'Alice : \", clé_publique_d_Alice)"
   ]
  },
  {
   "cell_type": "markdown",
   "id": "improved-straight",
   "metadata": {},
   "source": [
    "##### Bob calcul et envoie sa clé publique à Alice:"
   ]
  },
  {
   "cell_type": "code",
   "execution_count": 10,
   "id": "asian-kernel",
   "metadata": {},
   "outputs": [
    {
     "name": "stdout",
     "output_type": "stream",
     "text": [
      "Clé publique de Bob :  42360\n"
     ]
    }
   ],
   "source": [
    "clé_publique_de_bob = chiffrement (clé_privée_de_Bob, base_partagé, premier_partagé) \n",
    "print(\"Clé publique de Bob : \", clé_publique_de_bob)"
   ]
  },
  {
   "cell_type": "markdown",
   "id": "czech-monroe",
   "metadata": {},
   "source": [
    "### 3) Chacun calcul son secret commun\n",
    "<img src=\"medias/fin.png\" width=\"800\"/>\n",
    "\n",
    "##### Alice calcul le secret partagé"
   ]
  },
  {
   "cell_type": "code",
   "execution_count": 11,
   "id": "necessary-quarter",
   "metadata": {},
   "outputs": [
    {
     "data": {
      "text/plain": [
       "4195"
      ]
     },
     "execution_count": 11,
     "metadata": {},
     "output_type": "execute_result"
    }
   ],
   "source": [
    "résultat_d_Alice = calcul_secret_partagé(clé_publique_de_bob, clé_privée_d_Alice, premier_partagé)\n",
    "résultat_d_Alice"
   ]
  },
  {
   "cell_type": "markdown",
   "id": "personal-isaac",
   "metadata": {},
   "source": [
    "##### Bob calcul le secret partagé"
   ]
  },
  {
   "cell_type": "code",
   "execution_count": 12,
   "id": "similar-entertainment",
   "metadata": {},
   "outputs": [
    {
     "data": {
      "text/plain": [
       "4195"
      ]
     },
     "execution_count": 12,
     "metadata": {},
     "output_type": "execute_result"
    }
   ],
   "source": [
    "résultat_de_Bob = calcul_secret_partagé(clé_publique_d_Alice, clé_privée_de_Bob, premier_partagé)\n",
    "résultat_de_Bob"
   ]
  },
  {
   "cell_type": "markdown",
   "id": "extreme-graduation",
   "metadata": {},
   "source": [
    "##### Ils ont bien le même secret partagé, sans l'avoir envoyé sur le réseau"
   ]
  },
  {
   "cell_type": "code",
   "execution_count": 13,
   "id": "dominican-vacation",
   "metadata": {},
   "outputs": [
    {
     "name": "stdout",
     "output_type": "stream",
     "text": [
      "4195  ==  4195\n"
     ]
    }
   ],
   "source": [
    "print (résultat_d_Alice,\" == \", résultat_de_Bob)"
   ]
  },
  {
   "cell_type": "markdown",
   "id": "identified-hunter",
   "metadata": {},
   "source": [
    "Alice et Bob peuvent donc s'envoyer des messages en utilisant le secret commun."
   ]
  },
  {
   "cell_type": "markdown",
   "id": "known-tomato",
   "metadata": {},
   "source": [
    "## Exemple d'implémentation d'attaque\n",
    "### 1) Initialisation\n",
    "<img src=\"medias/initialisation_attaque.png\" width=\"800\"/>\n",
    "\n",
    "##### Alice et Bob prépare chacun une clé privée :"
   ]
  },
  {
   "cell_type": "code",
   "execution_count": 14,
   "id": "editorial-chemistry",
   "metadata": {},
   "outputs": [],
   "source": [
    "clé_privée_d_Alice = 100\n",
    "clé_privée_de_Bob = 200"
   ]
  },
  {
   "cell_type": "markdown",
   "id": "centered-columbia",
   "metadata": {},
   "source": [
    "##### Eve prépare aussi une clé privée"
   ]
  },
  {
   "cell_type": "code",
   "execution_count": 15,
   "id": "neutral-inquiry",
   "metadata": {},
   "outputs": [],
   "source": [
    "clé_privée_d_Eve = 300"
   ]
  },
  {
   "cell_type": "markdown",
   "id": "alive-viewer",
   "metadata": {},
   "source": [
    "##### Pendant ce temps Eve intercepte la communication entre Bob et Alice.\n",
    "##### Elle se fait passer pour Bob auprès d'Alice et inverssement.\n",
    "\n",
    "##### Eve établie un nombre premier et une base partagé avec Alice et Bob. (Dans cet exemple on garde les mêmes pour Alice et Bob)"
   ]
  },
  {
   "cell_type": "code",
   "execution_count": 16,
   "id": "comfortable-relevance",
   "metadata": {},
   "outputs": [],
   "source": [
    "base_partagé = 1000\n",
    "premier_partagé = 42863"
   ]
  },
  {
   "cell_type": "markdown",
   "id": "sudden-brown",
   "metadata": {},
   "source": [
    "### 2) Caclcul et Échange des clés publiques\n",
    "<img src=\"medias/echange_attaque.png\" width=\"800\"/>\n",
    "\n",
    "##### Alice calcule et envoie sa clé publique à Bob (Mais l'envoie en fait à Eve):"
   ]
  },
  {
   "cell_type": "code",
   "execution_count": 17,
   "id": "animated-aaron",
   "metadata": {},
   "outputs": [
    {
     "name": "stdout",
     "output_type": "stream",
     "text": [
      "Clé publique d'Alice :  8425\n"
     ]
    }
   ],
   "source": [
    "clé_publique_d_Alice = chiffrement (clé_privée_d_Alice, base_partagé, premier_partagé) \n",
    "print(\"Clé publique d'Alice : \", clé_publique_d_Alice)"
   ]
  },
  {
   "cell_type": "markdown",
   "id": "searching-input",
   "metadata": {},
   "source": [
    "##### Bob calcul et envoie sa clé publique à Alice (Mais l'envoie en fait à Eve):"
   ]
  },
  {
   "cell_type": "code",
   "execution_count": 18,
   "id": "multiple-transmission",
   "metadata": {},
   "outputs": [
    {
     "name": "stdout",
     "output_type": "stream",
     "text": [
      "Clé publique de Bob :  42360\n"
     ]
    }
   ],
   "source": [
    "clé_publique_de_Bob = chiffrement (clé_privée_de_Bob, base_partagé, premier_partagé) \n",
    "print(\"Clé publique de Bob : \", clé_publique_de_bob)"
   ]
  },
  {
   "cell_type": "markdown",
   "id": "flush-genome",
   "metadata": {},
   "source": [
    "##### Eve a donc reçue la clé publique d'Alice et de Bob.\n",
    "##### Elle calcule sa clé publique pour Alice et pour Bob et leur envoie."
   ]
  },
  {
   "cell_type": "code",
   "execution_count": 19,
   "id": "rational-perfume",
   "metadata": {},
   "outputs": [
    {
     "name": "stdout",
     "output_type": "stream",
     "text": [
      "Clé publique d'Eve pour Alice et Bob :  5662\n"
     ]
    }
   ],
   "source": [
    "clé_publique_d_Eve = chiffrement (clé_privée_d_Eve, base_partagé, premier_partagé) \n",
    "print(\"Clé publique d'Eve pour Alice et Bob : \", clé_publique_d_Eve)"
   ]
  },
  {
   "cell_type": "markdown",
   "id": "velvet-constraint",
   "metadata": {},
   "source": [
    "### 3) Chacun calcul son secret commun\n",
    "<img src=\"medias/fin_attaque.png\" width=\"800\"/>\n",
    "\n",
    "##### Alice calcul le secret commun avec Bob (Mais en fait c'est avec Eve):"
   ]
  },
  {
   "cell_type": "code",
   "execution_count": 20,
   "id": "extended-experience",
   "metadata": {},
   "outputs": [
    {
     "data": {
      "text/plain": [
       "5450"
      ]
     },
     "execution_count": 20,
     "metadata": {},
     "output_type": "execute_result"
    }
   ],
   "source": [
    "résultat_d_Alice = calcul_secret_partagé(clé_publique_d_Eve, clé_privée_d_Alice, premier_partagé)\n",
    "résultat_d_Alice"
   ]
  },
  {
   "cell_type": "markdown",
   "id": "preliminary-display",
   "metadata": {},
   "source": [
    "##### Eve calcul le secret commun pour sa communication avec Alice : "
   ]
  },
  {
   "cell_type": "code",
   "execution_count": 21,
   "id": "alive-morrison",
   "metadata": {},
   "outputs": [
    {
     "data": {
      "text/plain": [
       "5450"
      ]
     },
     "execution_count": 21,
     "metadata": {},
     "output_type": "execute_result"
    }
   ],
   "source": [
    "résultat_d_Eve_avec_Alice = calcul_secret_partagé(clé_publique_d_Alice, clé_privée_d_Eve, premier_partagé)\n",
    "résultat_d_Eve_avec_Alice"
   ]
  },
  {
   "cell_type": "markdown",
   "id": "unnecessary-cherry",
   "metadata": {},
   "source": [
    "##### Bob calcul le secret commun avec Alice (Mais en fait c'est avec Eve):"
   ]
  },
  {
   "cell_type": "code",
   "execution_count": 22,
   "id": "modular-words",
   "metadata": {},
   "outputs": [
    {
     "data": {
      "text/plain": [
       "41304"
      ]
     },
     "execution_count": 22,
     "metadata": {},
     "output_type": "execute_result"
    }
   ],
   "source": [
    "résultat_de_Bob = calcul_secret_partagé(clé_publique_d_Eve, clé_privée_de_Bob, premier_partagé)\n",
    "résultat_de_Bob"
   ]
  },
  {
   "cell_type": "markdown",
   "id": "lesbian-cassette",
   "metadata": {},
   "source": [
    "##### Eve calcul le secret commun pour sa communication avec Bob : "
   ]
  },
  {
   "cell_type": "code",
   "execution_count": 23,
   "id": "noble-automation",
   "metadata": {},
   "outputs": [
    {
     "data": {
      "text/plain": [
       "41304"
      ]
     },
     "execution_count": 23,
     "metadata": {},
     "output_type": "execute_result"
    }
   ],
   "source": [
    "résultat_d_Eve_avec_Bob = calcul_secret_partagé(clé_publique_de_Bob, clé_privée_d_Eve, premier_partagé)\n",
    "résultat_d_Eve_avec_Bob"
   ]
  },
  {
   "cell_type": "markdown",
   "id": "fancy-figure",
   "metadata": {},
   "source": [
    "Eve peut maintenant déchiffré la communication entre Alice et Bob"
   ]
  },
  {
   "cell_type": "markdown",
   "id": "western-characterization",
   "metadata": {},
   "source": [
    "## Conclusion\n",
    "L'Échange de clé avec Diffie-Hellman est un protocol assez sécurisé.\n",
    "\n",
    "En générale la base utilisée est un très grand nombres qui permet d'éviter les attaques par force brute.\n",
    "Aujourd'hui, on estime que codé la base sur 512 bits ou 718 bits donne un protocol trop faible, 1024 bits n'est pas suffissant n'ont plus face à des organisations étatiques. À partir de 2048 on estime que le protocole est sûre. Néanmoins il faut faire attention aux nouvelles technologies comme les ordinateurs quantitques qui pourraient mettre à mal Diffie-Hellman.\n",
    "\n",
    "L'attaque \"man in the midle\" que nous montrons met en perspective la place des outils cryptographiques dans la sécurité informatique. Dans notre example le principe mathématique n'a pas été cassé mais contourné. La force cryptographique d'une solution est tout aussi importante que son implémentation dans les réseaux."
   ]
  }
 ],
 "metadata": {
  "kernelspec": {
   "display_name": "Python 3",
   "language": "python",
   "name": "python3"
  },
  "language_info": {
   "codemirror_mode": {
    "name": "ipython",
    "version": 3
   },
   "file_extension": ".py",
   "mimetype": "text/x-python",
   "name": "python",
   "nbconvert_exporter": "python",
   "pygments_lexer": "ipython3",
   "version": "3.9.1"
  }
 },
 "nbformat": 4,
 "nbformat_minor": 5
}
