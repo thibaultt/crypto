{
 "cells": [
  {
   "cell_type": "markdown",
   "metadata": {},
   "source": [
    "# Base Mathématiques\n",
    "\n",
    "## Première implémentation\n",
    "\n",
    "Soient :\n",
    "p un nombre premier\n",
    "groupe multiplicatif d'ordre p\n",
    "g une racine modulo p\n",
    "\n",
    "(le secret partagé sera une valeur entre 1 et p-1)\n",
    "\n",
    "Exemple protocole\n",
    "\n",
    "Public : p et g\n",
    "\n",
    "secret a public A\n",
    "secret b ublic B\n",
    "\n",
    "Alice et Bob\n",
    "\n",
    "Chacun définit sa clé privé.\n",
    "\n",
    "Puis : A = g^a [p]\n",
    "\n",
    "B = g^b [p]"
   ]
  },
  {
   "cell_type": "code",
   "execution_count": null,
   "metadata": {},
   "outputs": [],
   "source": []
  },
  {
   "cell_type": "markdown",
   "metadata": {},
   "source": [
    "Shared secret = B^a [p] = A^b [p]\n",
    "\n",
    "Vérification:\n",
    "B^a [p] = (g^b [p])^a [p] = g^ba [p] = g^ab [p] = (g^a [p])^b [p] = A^b [p]\n"
   ]
  },
  {
   "cell_type": "code",
   "execution_count": null,
   "metadata": {},
   "outputs": [],
   "source": []
  },
  {
   "cell_type": "markdown",
   "metadata": {},
   "source": [
    "Long à calculer = g^ab [p] = g^ba [p]\n",
    "\n",
    "\n",
    "Probleme du logarithme discret\n",
    "trouver b si on a g, p, g^b = B\n",
    "\n",
    "Explication log"
   ]
  },
  {
   "cell_type": "code",
   "execution_count": null,
   "metadata": {},
   "outputs": [],
   "source": []
  },
  {
   "cell_type": "markdown",
   "metadata": {},
   "source": [
    "Possible de dupliquer les clés intermédiaires pour gagner du temps."
   ]
  },
  {
   "cell_type": "markdown",
   "metadata": {},
   "source": [
    "## Limitation crypto\n",
    "\n",
    "Probleme du logarithme discret\n",
    "Génération d'aléa pour les clés\n",
    "trouver nombre premier"
   ]
  }
 ],
 "metadata": {
  "kernelspec": {
   "display_name": "Python 3",
   "language": "python",
   "name": "python3"
  },
  "language_info": {
   "codemirror_mode": {
    "name": "ipython",
    "version": 3
   },
   "file_extension": ".py",
   "mimetype": "text/x-python",
   "name": "python",
   "nbconvert_exporter": "python",
   "pygments_lexer": "ipython3",
   "version": "3.6.9"
  }
 },
 "nbformat": 4,
 "nbformat_minor": 2
}
