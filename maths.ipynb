{
 "cells": [
  {
   "cell_type": "markdown",
   "metadata": {},
   "source": [
    "# Base Mathématiques\n",
    "\n",
    "## Première implémentation\n",
    "\n",
    "Soit $p$ un nombre premier.   \n",
    "On se place dans le groupe multiplicatif ($\\mathbf{Z}/p\\mathbf{Z}$, $*$)\n",
    "d'ordre $p$.  \n",
    "Soit $g$ $\\lt$ $p$. \n",
    "\n",
    "Dans le protocole d'échange de clé de Diffie-Hellman, $p$ et $g$ sont connus de tous.  \n",
    "Le secret partagé que les parties cherchent à obtenir sera _**secret**_  avec $1$ $\\lt$ _**secret**_ $\\lt$ $p$ $-$ $1$.  \n",
    "  \n",
    "\n",
    "### Exemple protocole\n",
    "\n",
    "Prenons le cas simple où deux personnes $A$ et $B$ souhaitent obtenir un _**secret**_ partagé.  \n",
    "\n",
    "Soient $a$ la clé privée de $A$ et $b$ la clé privée de $B$.  \n",
    "\n",
    "Les clés privées de chacun sont définies aléatoirement. Les clés privées ne doivent être connues que de leur détenteur.\n",
    "\n",
    "L'obtention de clé publique à partir de la clé privée se fait comme suit :  \n",
    "Soient $K_A$ la clé publique de $A$ et $K_B$ la clé publique de $B$. \n",
    "\n",
    "On a : $K_A$ = $g^a$   $[ p ]$  \n",
    "       $K_B$ = $g^b$   $[ p ]$  \n",
    "\n",
    "\n",
    "Soient : "
   ]
  },
  {
   "cell_type": "code",
   "execution_count": 11,
   "metadata": {},
   "outputs": [],
   "source": [
    "p = 541\n",
    "\n",
    "g = 10\n",
    "a = 5\n",
    "b = 7"
   ]
  },
  {
   "cell_type": "markdown",
   "metadata": {},
   "source": [
    "Calcul des clés publiques :   \n",
    "$K_A$ :"
   ]
  },
  {
   "cell_type": "code",
   "execution_count": 12,
   "metadata": {},
   "outputs": [
    {
     "name": "stdout",
     "output_type": "stream",
     "text": [
      "K_A =  15\n"
     ]
    }
   ],
   "source": [
    "K_A = g^a % p\n",
    "print(\"K_A = \", K_A)"
   ]
  },
  {
   "cell_type": "markdown",
   "metadata": {},
   "source": [
    "$K_B$ :  "
   ]
  },
  {
   "cell_type": "code",
   "execution_count": 13,
   "metadata": {
    "scrolled": true
   },
   "outputs": [
    {
     "name": "stdout",
     "output_type": "stream",
     "text": [
      "K_B =  13\n"
     ]
    }
   ],
   "source": [
    "K_B = g^b % p\n",
    "print(\"K_B = \", K_B)"
   ]
  },
  {
   "cell_type": "markdown",
   "metadata": {},
   "source": [
    "On pose _**secret**_ $= K_B^a$ $ [ p ]$ = $K_A^b$ $[ p ]$\n",
    "\n",
    "Le _**secret**_ est le même pour $A$ et pour $B$, même si le calcul pour l'obtenir n'est pas le même. C'est pour cela que l'on parle de _**secret partagé**_.  \n",
    "\n",
    "Vérification:  \n",
    "$K^a_B$   $[  p  ] =$ $(g^b$   $[  p  ] )^a$ $[ p ] =$ $g^{ba}$ $ [ p ] =$  $g^{ab}$ $[ p ] =$  $(g^a$   $[  p  ] )^b$ $[ p ] =$ $K^b_A$    $[ p ]$\n",
    "\n",
    "Pour calculer le _**secret**_, $A$ et $B$ vont échanger leur clé publique.\n",
    "\n",
    "Calcul du _**secret**_ :  "
   ]
  },
  {
   "cell_type": "code",
   "execution_count": 14,
   "metadata": {},
   "outputs": [
    {
     "name": "stdout",
     "output_type": "stream",
     "text": [
      "Diffie Hellman ça marche !! secret :  8\n"
     ]
    }
   ],
   "source": [
    "secret_A = K_B^a % p\n",
    "secret_B = K_A^b % p\n",
    "\n",
    "if (secret_A == secret_B ):\n",
    "    print(\"Diffie Hellman ça marche !! secret : \", secret_A)\n",
    "else :\n",
    "    print (\"Diffie Hellman c'est nul :O\")"
   ]
  },
  {
   "cell_type": "markdown",
   "metadata": {},
   "source": [
    "Le calcul $g^{ba}$ $ [ p ] =$  $g^{ab}$ $[ p ]$ est extrêmement long à calculer si les chiffres sont assez grands. La fiabilité de l'échange de clé Diffie-Hellman repose sur le fait qu'il est impossible de trouver $b$ si on possède $g$, $p$ et $K_B$ ($= g^b$   $[ p ]$  ) avec les moyens actuels.  \n",
    "Ce problème est appelé le problème du logarithme discret."
   ]
  },
  {
   "cell_type": "markdown",
   "metadata": {},
   "source": [
    "## A plusieurs\n",
    "\n",
    "Possible de dupliquer les clés intermédiaires pour gagner du temps.\n",
    "\n",
    "Plusieurs personnes peuvent souhaiter partager un secret. Cela est aussi possible avec Diffie-Hellman.  \n",
    "Soient N personnes souhaitant partager un _**secret**_ de clé privée $a$, $b$, $c$, ... Il y a donc N clés privées.  \n",
    "$g$ et $p$ sont connus de tous.  \n",
    "\n",
    "Etape 1 à N-1 : chacun des participants sauf vous mettent le secret temporaire à la puissance de leur clé privée. Ici, une fuite du secret en construction n'a aucune incidence. En effet, même en possession de $g^{abc}$ et de $g^{bcd}$, il est impossible de déduire $g^{abcd}$.    \n",
    "Etape N : Elaboration du _**secret**_ : vous ajoutez à l'équation votre clé secrète.\n",
    "\n",
    "Il y a donc N étape pour établir le _**secret**_. Etant confidentiel, il ne peut être partagé et doit donc être recalculé pour chacun des participants. L'associativité permet d'obtenir le même _**secret**_ : on a bien $g^{(ab)c}$ $=$ $g^{a(bc)}$. On note de plus que la multiplication est ici commutative.  \n",
    "Il faut donc **N** étapes $*$ **N** personnes pour que tout le monde obtienne le _**secret**_ dans le pire des cas.\n",
    "\n",
    "Pour diminuer le nombre d'étapes, il est possible de dupliquer les clés intermédiaires.  \n",
    "\n",
    "Exemple :  "
   ]
  },
  {
   "cell_type": "code",
   "execution_count": 15,
   "metadata": {},
   "outputs": [
    {
     "name": "stdout",
     "output_type": "stream",
     "text": [
      "K_C =  1\n",
      "Diffie Hellman ça marche !! secret :  3\n"
     ]
    }
   ],
   "source": [
    "c = 11\n",
    "K_C = g^c % p\n",
    "print(\"K_C = \", K_C)\n",
    "\n",
    "pre_secret_A = K_B^c % p #Etape 1 : clé publique de B, Etape 2 : clé privée de C\n",
    "pre_secret_B = K_C^a % p #Etape 1 : clé publique de C, Etape 2 : clé privée de A\n",
    "pre_secret_C = K_A^b % p #Etape 1 : clé publique de A, Etape 2 : clé privée de B\n",
    "\n",
    "secret_A = pre_secret_A^a % p #Etape 3 : exposant de A\n",
    "secret_B = pre_secret_B^b % p #Etape 3 : exposant de B\n",
    "secret_C = pre_secret_C^c % p #Etape 3 : exposant de C\n",
    "\n",
    "if (secret_A == secret_B and secret_B == secret_C ):\n",
    "    print(\"Diffie Hellman ça marche !! secret : \", secret_A)\n",
    "else :\n",
    "    print (\"Diffie Hellman c'est nul :O\")"
   ]
  },
  {
   "cell_type": "markdown",
   "metadata": {},
   "source": [
    "## Autres espaces\n",
    "\n",
    "La première démonstration de l'échange de clé Diffie-Hellman se faisait effectivement dans $\\mathbf{Z}/p\\mathbf{Z}$  où $p$ est premier. Cependant, le même principe est applicable dans un groupe cyclique fini quelconque ou même sur une courbe elliptique.  \n",
    "Il faut donc se placer dans un groupe fini et savoir le définir pour pouvoir ensuite calculer clé privée et _**secret**_."
   ]
  },
  {
   "cell_type": "markdown",
   "metadata": {},
   "source": [
    "## Limitation crypto\n",
    "\n",
    "Les difficultés de l'échange de clé de Diffie-Hellman sont les mêmes que pour toute la crypto.  \n",
    "Dans le cas d'un groupe $\\mathbf{Z}/p\\mathbf{Z}$  où $p$ est premier, la première difficulté réside dans le fait de trouver un nombre premier (assez grand).  \n",
    "Il est ensuite question de génération d'aléa pour les clés privées des parties.\n"
   ]
  }
 ],
 "metadata": {
  "kernelspec": {
   "display_name": "Python 3",
   "language": "python",
   "name": "python3"
  },
  "language_info": {
   "codemirror_mode": {
    "name": "ipython",
    "version": 3
   },
   "file_extension": ".py",
   "mimetype": "text/x-python",
   "name": "python",
   "nbconvert_exporter": "python",
   "pygments_lexer": "ipython3",
   "version": "3.6.9"
  }
 },
 "nbformat": 4,
 "nbformat_minor": 2
}
