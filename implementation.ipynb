{
 "cells": [
  {
   "cell_type": "markdown",
   "metadata": {},
   "source": [
    "### Variables de maths.ipynb"
   ]
  },
  {
   "cell_type": "code",
   "execution_count": 1,
   "metadata": {},
   "outputs": [],
   "source": [
    "def chiffrement (secret, base, premier):\n",
    "    return (base ** secret) % premier\n",
    "\n",
    "def calcul_secret_partagé (secret_partagé, secret_privé, nombre_premier_partagé):\n",
    "    return (secret_partagé ** secret_privé) % nombre_premier_partagé"
   ]
  },
  {
   "cell_type": "markdown",
   "metadata": {},
   "source": [
    "## Example d'implémentation\n",
    "\n",
    "### Cas classique\n",
    "\n",
    "Dans cette example Alice et Bob s'envoient des messages secret sur un réseaux non sécurisé en utilisant Diffie-Hellman.\n",
    "\n",
    "Ce processus ce fait en trois étapes:"
   ]
  },
  {
   "cell_type": "markdown",
   "metadata": {},
   "source": [
    "### 1) Initialisation\n",
    "##### Alice et Bob prépare chacun un secret :"
   ]
  },
  {
   "cell_type": "code",
   "execution_count": 2,
   "metadata": {},
   "outputs": [],
   "source": [
    "secret_d_Alice = 6\n",
    "secret_de_Bob = 15"
   ]
  },
  {
   "cell_type": "markdown",
   "metadata": {},
   "source": [
    "##### En suite il se mette d'accord sur deux valeurs :"
   ]
  },
  {
   "cell_type": "code",
   "execution_count": 3,
   "metadata": {},
   "outputs": [],
   "source": [
    "nombre_premier_partagé = 23\n",
    "base_partagé = 5"
   ]
  },
  {
   "cell_type": "markdown",
   "metadata": {},
   "source": [
    "### 2) Échange des secrets\n",
    "##### Alice commence par envoyer son secret chiffré:"
   ]
  },
  {
   "cell_type": "code",
   "execution_count": 4,
   "metadata": {},
   "outputs": [
    {
     "name": "stdout",
     "output_type": "stream",
     "text": [
      "Chiffré d'Alice :  8\n"
     ]
    }
   ],
   "source": [
    "chiffré_d_Alice = chiffrement (secret_d_Alice, base_partagé, nombre_premier_partagé) \n",
    "print(\"Chiffré d'Alice : \", chiffré_d_Alice)"
   ]
  },
  {
   "cell_type": "markdown",
   "metadata": {},
   "source": [
    "##### Bob envoie son secret chiffré lui aussi:"
   ]
  },
  {
   "cell_type": "code",
   "execution_count": 5,
   "metadata": {},
   "outputs": [
    {
     "name": "stdout",
     "output_type": "stream",
     "text": [
      "Chiffré de Bob :  19\n"
     ]
    }
   ],
   "source": [
    "chiffré_de_bob = chiffrement (secret_de_Bob, base_partagé, nombre_premier_partagé) \n",
    "print(\"Chiffré de Bob : \", chiffré_de_bob)"
   ]
  },
  {
   "cell_type": "markdown",
   "metadata": {},
   "source": [
    "### 3) Chacun calcul son secret commun\n",
    "##### Alice calcul le secret partagé"
   ]
  },
  {
   "cell_type": "code",
   "execution_count": 5,
   "metadata": {},
   "outputs": [
    {
     "ename": "NameError",
     "evalue": "name 'calcul_secret_partagé' is not defined",
     "output_type": "error",
     "traceback": [
      "\u001b[0;31m---------------------------------------------------------------------------\u001b[0m",
      "\u001b[0;31mNameError\u001b[0m                                 Traceback (most recent call last)",
      "\u001b[0;32m<ipython-input-5-665fce40c847>\u001b[0m in \u001b[0;36m<module>\u001b[0;34m\u001b[0m\n\u001b[0;32m----> 1\u001b[0;31m \u001b[0mrésultat_d_Alice\u001b[0m \u001b[0;34m=\u001b[0m \u001b[0mcalcul_secret_partagé\u001b[0m\u001b[0;34m(\u001b[0m\u001b[0mchiffré_de_bob\u001b[0m\u001b[0;34m,\u001b[0m \u001b[0msecret_d_Alice\u001b[0m\u001b[0;34m,\u001b[0m \u001b[0mnombre_premier_partagé\u001b[0m\u001b[0;34m)\u001b[0m\u001b[0;34m\u001b[0m\u001b[0;34m\u001b[0m\u001b[0m\n\u001b[0m\u001b[1;32m      2\u001b[0m \u001b[0mrésultat_d_Alice\u001b[0m\u001b[0;34m\u001b[0m\u001b[0;34m\u001b[0m\u001b[0m\n",
      "\u001b[0;31mNameError\u001b[0m: name 'calcul_secret_partagé' is not defined"
     ]
    }
   ],
   "source": [
    "résultat_d_Alice = calcul_secret_partagé(chiffré_de_bob, secret_d_Alice, nombre_premier_partagé)\n",
    "résultat_d_Alice"
   ]
  },
  {
   "cell_type": "markdown",
   "metadata": {},
   "source": [
    "##### Bob calcul le secret commun"
   ]
  },
  {
   "cell_type": "code",
   "execution_count": 7,
   "metadata": {},
   "outputs": [
    {
     "data": {
      "text/plain": [
       "2"
      ]
     },
     "execution_count": 7,
     "metadata": {},
     "output_type": "execute_result"
    }
   ],
   "source": [
    "résultat_de_Bob = calcul_secret_partagé(chiffré_d_Alice, secret_de_Bob, nombre_premier_partagé)\n",
    "résultat_de_Bob"
   ]
  },
  {
   "cell_type": "markdown",
   "metadata": {},
   "source": [
    "### Résultat\n",
    "##### Ils ont bien la même clé final, sans l'avoir envoyé sur le réseau"
   ]
  },
  {
   "cell_type": "code",
   "execution_count": 8,
   "metadata": {},
   "outputs": [
    {
     "name": "stdout",
     "output_type": "stream",
     "text": [
      "2  ==  2\n"
     ]
    }
   ],
   "source": [
    "print (résultat_d_Alice,\" == \", résultat_de_Bob)"
   ]
  },
  {
   "cell_type": "markdown",
   "metadata": {},
   "source": [
    "## Exemple d'implémentation d'attaque\n",
    "### 1) Initialisation\n",
    "##### Alice et Bob prépare chacun un secret :"
   ]
  },
  {
   "cell_type": "code",
   "execution_count": null,
   "metadata": {},
   "outputs": [],
   "source": [
    "secret_d_Alice = 6\n",
    "secret_de_Bob = 15"
   ]
  },
  {
   "cell_type": "markdown",
   "metadata": {},
   "source": [
    "##### En suite il se mette d'accord sur deux valeurs :"
   ]
  },
  {
   "cell_type": "code",
   "execution_count": 3,
   "metadata": {},
   "outputs": [],
   "source": [
    "nombre_premier_partagé = 23\n",
    "base_partagé = 5"
   ]
  },
  {
   "cell_type": "markdown",
   "metadata": {},
   "source": [
    "##### Pendant ce temps Eve va sniffer (écouter) la communication entre Bob et Alice et crée son propre secret :"
   ]
  },
  {
   "cell_type": "code",
   "execution_count": null,
   "metadata": {},
   "outputs": [],
   "source": [
    "secret_d_Eve = 9"
   ]
  },
  {
   "cell_type": "markdown",
   "metadata": {},
   "source": [
    "### 2) Échange des secrets\n",
    "##### Alice commence par envoyer son secret chiffré:"
   ]
  },
  {
   "cell_type": "code",
   "execution_count": 4,
   "metadata": {},
   "outputs": [
    {
     "name": "stdout",
     "output_type": "stream",
     "text": [
      "Chiffré d'Alice :  8\n"
     ]
    }
   ],
   "source": [
    "chiffré_d_Alice = chiffrement (secret_d_Alice, base_partagé, nombre_premier_partagé) \n",
    "print(\"Chiffré d'Alice : \", chiffré_d_Alice)"
   ]
  },
  {
   "cell_type": "markdown",
   "metadata": {},
   "source": [
    "##### Bob calcul le secret commun"
   ]
  },
  {
   "cell_type": "code",
   "execution_count": 5,
   "metadata": {},
   "outputs": [
    {
     "name": "stdout",
     "output_type": "stream",
     "text": [
      "Chiffré de Bob :  19\n"
     ]
    }
   ],
   "source": [
    "chiffré_de_bob = chiffrement (secret_de_Bob, base_partagé, nombre_premier_partagé) \n",
    "print(\"Chiffré de Bob : \", chiffré_de_bob)"
   ]
  },
  {
   "cell_type": "markdown",
   "metadata": {},
   "source": [
    "##### Eve va récupérer les paquets de communication entre Bob et Alice qui contiennent le nombre premier partagé ainsi que la base partagé."
   ]
  },
  {
   "cell_type": "markdown",
   "metadata": {},
   "source": [
    "### 3) Chacun calcul son secret commun\n",
    "##### Alice calcul le secret partagé"
   ]
  },
  {
   "cell_type": "code",
   "execution_count": 4,
   "metadata": {},
   "outputs": [
    {
     "ename": "NameError",
     "evalue": "name 'calcul_secret_partagé' is not defined",
     "output_type": "error",
     "traceback": [
      "\u001b[0;31m---------------------------------------------------------------------------\u001b[0m",
      "\u001b[0;31mNameError\u001b[0m                                 Traceback (most recent call last)",
      "\u001b[0;32m<ipython-input-4-665fce40c847>\u001b[0m in \u001b[0;36m<module>\u001b[0;34m\u001b[0m\n\u001b[0;32m----> 1\u001b[0;31m \u001b[0mrésultat_d_Alice\u001b[0m \u001b[0;34m=\u001b[0m \u001b[0mcalcul_secret_partagé\u001b[0m\u001b[0;34m(\u001b[0m\u001b[0mchiffré_de_bob\u001b[0m\u001b[0;34m,\u001b[0m \u001b[0msecret_d_Alice\u001b[0m\u001b[0;34m,\u001b[0m \u001b[0mnombre_premier_partagé\u001b[0m\u001b[0;34m)\u001b[0m\u001b[0;34m\u001b[0m\u001b[0;34m\u001b[0m\u001b[0m\n\u001b[0m\u001b[1;32m      2\u001b[0m \u001b[0mrésultat_d_Alice\u001b[0m\u001b[0;34m\u001b[0m\u001b[0;34m\u001b[0m\u001b[0m\n",
      "\u001b[0;31mNameError\u001b[0m: name 'calcul_secret_partagé' is not defined"
     ]
    }
   ],
   "source": [
    "résultat_d_Alice = calcul_secret_partagé(chiffré_de_bob, secret_d_Alice, nombre_premier_partagé)\n",
    "résultat_d_Alice"
   ]
  },
  {
   "cell_type": "markdown",
   "metadata": {},
   "source": [
    "##### Bob calcul le secret commun"
   ]
  },
  {
   "cell_type": "code",
   "execution_count": 3,
   "metadata": {},
   "outputs": [
    {
     "ename": "NameError",
     "evalue": "name 'calcul_secret_partagé' is not defined",
     "output_type": "error",
     "traceback": [
      "\u001b[0;31m---------------------------------------------------------------------------\u001b[0m",
      "\u001b[0;31mNameError\u001b[0m                                 Traceback (most recent call last)",
      "\u001b[0;32m<ipython-input-3-325228578656>\u001b[0m in \u001b[0;36m<module>\u001b[0;34m\u001b[0m\n\u001b[0;32m----> 1\u001b[0;31m \u001b[0mrésultat_de_Bob\u001b[0m \u001b[0;34m=\u001b[0m \u001b[0mcalcul_secret_partagé\u001b[0m\u001b[0;34m(\u001b[0m\u001b[0mchiffré_d_Alice\u001b[0m\u001b[0;34m,\u001b[0m \u001b[0msecret_de_Bob\u001b[0m\u001b[0;34m,\u001b[0m \u001b[0mnombre_premier_partagé\u001b[0m\u001b[0;34m)\u001b[0m\u001b[0;34m\u001b[0m\u001b[0;34m\u001b[0m\u001b[0m\n\u001b[0m\u001b[1;32m      2\u001b[0m \u001b[0mrésultat_de_Bob\u001b[0m\u001b[0;34m\u001b[0m\u001b[0;34m\u001b[0m\u001b[0m\n",
      "\u001b[0;31mNameError\u001b[0m: name 'calcul_secret_partagé' is not defined"
     ]
    }
   ],
   "source": [
    "résultat_de_Bob = calcul_secret_partagé(chiffré_d_Alice, secret_de_Bob, nombre_premier_partagé)\n",
    "résultat_de_Bob"
   ]
  },
  {
   "cell_type": "markdown",
   "metadata": {},
   "source": [
    "##### Eve peut aussi calculer le secret commun de Bob et Alice"
   ]
  },
  {
   "cell_type": "code",
   "execution_count": 2,
   "metadata": {},
   "outputs": [
    {
     "ename": "NameError",
     "evalue": "name 'calcul_secret_partagé' is not defined",
     "output_type": "error",
     "traceback": [
      "\u001b[0;31m---------------------------------------------------------------------------\u001b[0m",
      "\u001b[0;31mNameError\u001b[0m                                 Traceback (most recent call last)",
      "\u001b[0;32m<ipython-input-2-36f2f8115179>\u001b[0m in \u001b[0;36m<module>\u001b[0;34m\u001b[0m\n\u001b[0;32m----> 1\u001b[0;31m \u001b[0mrésultat_de_Eve_pour_Alice\u001b[0m \u001b[0;34m=\u001b[0m \u001b[0mcalcul_secret_partagé\u001b[0m\u001b[0;34m(\u001b[0m\u001b[0mchiffré_de_bob\u001b[0m\u001b[0;34m,\u001b[0m \u001b[0msecret_d_Eve\u001b[0m\u001b[0;34m,\u001b[0m \u001b[0mnombre_premier_partagé\u001b[0m\u001b[0;34m)\u001b[0m\u001b[0;34m\u001b[0m\u001b[0;34m\u001b[0m\u001b[0m\n\u001b[0m\u001b[1;32m      2\u001b[0m \u001b[0mrésultat_de_Eve_pour_Alice\u001b[0m\u001b[0;34m\u001b[0m\u001b[0;34m\u001b[0m\u001b[0m\n",
      "\u001b[0;31mNameError\u001b[0m: name 'calcul_secret_partagé' is not defined"
     ]
    }
   ],
   "source": [
    "résultat_de_Eve_pour_Alice = calcul_secret_partagé(chiffré_de_bob, secret_d_Eve, nombre_premier_partagé)\n",
    "résultat_de_Eve_pour_Alice\n"
   ]
  },
  {
   "cell_type": "code",
   "execution_count": 7,
   "metadata": {},
   "outputs": [
    {
     "data": {
      "text/plain": [
       "2"
      ]
     },
     "execution_count": 7,
     "metadata": {},
     "output_type": "execute_result"
    }
   ],
   "source": [
    "résultat_de_Eve_pour_bob = calcul_secret_partagé(chiffré_d_Alice, secret_d_Eve, nombre_premier_partagé)\n",
    "résultat_de_Eve_pour_Bob"
   ]
  }
 ],
 "metadata": {
  "kernelspec": {
   "display_name": "Python 3",
   "language": "python",
   "name": "python3"
  },
  "language_info": {
   "codemirror_mode": {
    "name": "ipython",
    "version": 3
   },
   "file_extension": ".py",
   "mimetype": "text/x-python",
   "name": "python",
   "nbconvert_exporter": "python",
   "pygments_lexer": "ipython3",
   "version": "3.9.1"
  }
 },
 "nbformat": 4,
 "nbformat_minor": 5
}
