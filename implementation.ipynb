{
 "cells": [
  {
   "cell_type": "markdown",
   "id": "stock-annual",
   "metadata": {},
   "source": [
    "### Variables de maths.ipynb"
   ]
  },
  {
   "cell_type": "code",
   "execution_count": 1,
   "id": "consecutive-demographic",
   "metadata": {},
   "outputs": [],
   "source": [
    "def chiffrement (secret, base, premier):\n",
    "    return (base ** secret) % premier\n",
    "\n",
    "def calcul_secret_partagé (secret_partagé, secret_privé, nombre_premier_partagé):\n",
    "    return (secret_partagé ** secret_privé) % nombre_premier_partagé"
   ]
  },
  {
   "cell_type": "markdown",
   "id": "systematic-mainland",
   "metadata": {},
   "source": [
    "## Example d'implémentation\n",
    "\n",
    "### Cas classique\n",
    "\n",
    "Dans cette example Alice et Bob s'envoient des des messages secret sur un réseaux non sécurisé en utilisant Diffie-Hellman.\n",
    "\n",
    "Ce processus ce fait en trois étapes:"
   ]
  },
  {
   "cell_type": "markdown",
   "id": "horizontal-invite",
   "metadata": {},
   "source": [
    "### 1) Initialisation\n",
    "##### Alice et Bob prépare chacun un secret :"
   ]
  },
  {
   "cell_type": "code",
   "execution_count": 2,
   "id": "mature-medline",
   "metadata": {},
   "outputs": [],
   "source": [
    "secret_d_Alice = 6\n",
    "secret_de_Bob = 15"
   ]
  },
  {
   "cell_type": "markdown",
   "id": "quality-constraint",
   "metadata": {},
   "source": [
    "##### En suite il se mette d'accord sur deux valeurs :"
   ]
  },
  {
   "cell_type": "code",
   "execution_count": 3,
   "id": "intended-directory",
   "metadata": {},
   "outputs": [],
   "source": [
    "nombre_premier_partagé = 23\n",
    "base_partagé = 5"
   ]
  },
  {
   "cell_type": "markdown",
   "id": "criminal-transition",
   "metadata": {},
   "source": [
    "### 2) Échande des secrets\n",
    "##### Alice commence par envoyer son secret chiffré:"
   ]
  },
  {
   "cell_type": "code",
   "execution_count": 4,
   "id": "inclusive-bolivia",
   "metadata": {},
   "outputs": [
    {
     "name": "stdout",
     "output_type": "stream",
     "text": [
      "Chiffré d'Alice :  8\n"
     ]
    }
   ],
   "source": [
    "chiffré_d_Alice = chiffrement (secret_d_Alice, base_partagé, nombre_premier_partagé) \n",
    "print(\"Chiffré d'Alice : \", chiffré_d_Alice)"
   ]
  },
  {
   "cell_type": "markdown",
   "id": "foreign-terrace",
   "metadata": {},
   "source": [
    "##### Bob envoie son secret chiffré lui aussi:"
   ]
  },
  {
   "cell_type": "code",
   "execution_count": 5,
   "id": "editorial-survivor",
   "metadata": {},
   "outputs": [
    {
     "name": "stdout",
     "output_type": "stream",
     "text": [
      "Chiffré de Bob :  19\n"
     ]
    }
   ],
   "source": [
    "chiffré_de_bob = chiffrement (secret_de_Bob, base_partagé, nombre_premier_partagé) \n",
    "print(\"Chiffré de Bob : \", chiffré_de_bob)"
   ]
  },
  {
   "cell_type": "markdown",
   "id": "enhanced-address",
   "metadata": {},
   "source": [
    "### 3) Chacun calcul son secret commun\n",
    "##### Alice calcul le secret partagé"
   ]
  },
  {
   "cell_type": "code",
   "execution_count": 6,
   "id": "departmental-savage",
   "metadata": {},
   "outputs": [
    {
     "data": {
      "text/plain": [
       "2"
      ]
     },
     "execution_count": 6,
     "metadata": {},
     "output_type": "execute_result"
    }
   ],
   "source": [
    "résultat_d_Alice = calcul_secret_partagé(chiffré_de_bob, secret_d_Alice, nombre_premier_partagé)\n",
    "résultat_d_Alice"
   ]
  },
  {
   "cell_type": "markdown",
   "id": "prime-salon",
   "metadata": {},
   "source": [
    "##### Bob calcul le secret commun"
   ]
  },
  {
   "cell_type": "code",
   "execution_count": 7,
   "id": "bored-tomato",
   "metadata": {},
   "outputs": [
    {
     "data": {
      "text/plain": [
       "2"
      ]
     },
     "execution_count": 7,
     "metadata": {},
     "output_type": "execute_result"
    }
   ],
   "source": [
    "résultat_de_Bob = calcul_secret_partagé(chiffré_d_Alice, secret_de_Bob, nombre_premier_partagé)\n",
    "résultat_de_Bob"
   ]
  },
  {
   "cell_type": "markdown",
   "id": "chicken-sucking",
   "metadata": {},
   "source": [
    "### Résultat\n",
    "##### Ils ont bien la même clé final, sans l'avoir envoyé sur le réseau"
   ]
  },
  {
   "cell_type": "code",
   "execution_count": 8,
   "id": "derived-fruit",
   "metadata": {},
   "outputs": [
    {
     "name": "stdout",
     "output_type": "stream",
     "text": [
      "2  ==  2\n"
     ]
    }
   ],
   "source": [
    "print (résultat_d_Alice,\" == \", résultat_de_Bob)"
   ]
  }
 ],
 "metadata": {
  "kernelspec": {
   "display_name": "Python 3",
   "language": "python",
   "name": "python3"
  },
  "language_info": {
   "codemirror_mode": {
    "name": "ipython",
    "version": 3
   },
   "file_extension": ".py",
   "mimetype": "text/x-python",
   "name": "python",
   "nbconvert_exporter": "python",
   "pygments_lexer": "ipython3",
   "version": "3.9.1"
  }
 },
 "nbformat": 4,
 "nbformat_minor": 5
}
