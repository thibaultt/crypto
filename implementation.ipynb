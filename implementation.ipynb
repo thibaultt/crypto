{
 "cells": [
  {
   "cell_type": "markdown",
   "metadata": {},
   "source": [
    "### Variables de maths.ipynb"
   ]
  },
  {
   "cell_type": "code",
   "execution_count": 1,
   "metadata": {},
   "outputs": [],
   "source": [
    "def chiffrement (secret, base, premier):\n",
    "    return (base ** secret) % premier\n",
    "\n",
    "def calcul_secret_partagé (secret_partagé, secret_privé, nombre_premier_partagé):\n",
    "    return (secret_partagé ** secret_privé) % nombre_premier_partagé"
   ]
  },
  {
   "cell_type": "markdown",
   "metadata": {},
   "source": [
    "## Example d'implémentation\n",
    "\n",
    "### Cas classique\n",
    "\n",
    "Dans cette example Alice et Bob s'envoient des messages secret sur un réseau non sécurisé en utilisant Diffie-Hellman.\n",
    "\n",
    "Eve fait une attaque Man in the Middle.\n",
    "\n",
    "Ce processus ce fait en trois étapes :"
   ]
  },
  {
   "cell_type": "markdown",
   "metadata": {},
   "source": [
    "### 1) Initialisation\n",
    "<img src=\"medias/initialisation.png\" width=\"800\"/>\n",
    "##### Alice et Bob prépare chacun une clé privée :"
   ]
  },
  {
   "cell_type": "code",
   "execution_count": 2,
   "metadata": {},
   "outputs": [],
   "source": [
    "clé_privée_d_Alice = 100\n",
    "clé_privée_de_Bob = 200"
   ]
  },
  {
   "cell_type": "markdown",
   "metadata": {},
   "source": [
    "##### Ensuite ils se mettent d'accord sur deux valeurs :"
   ]
  },
  {
   "cell_type": "code",
   "execution_count": 3,
   "metadata": {},
   "outputs": [],
   "source": [
    "base_partagé = 1000\n",
    "premier_partagé = 42863"
   ]
  },
  {
   "cell_type": "markdown",
   "metadata": {},
   "source": [
    "### 2) Calcul et Échange des clés publiques\n",
    "<div style=\"width; 100px;\">\n",
    "![échange](medias/echange.png)\n",
    " </div>\n",
    "##### Alice calcul et envoye sa clé publique:"
   ]
  },
  {
   "cell_type": "code",
   "execution_count": 4,
   "metadata": {},
   "outputs": [
    {
     "name": "stdout",
     "output_type": "stream",
     "text": [
      "Clée publique d'Alice :  8425\n"
     ]
    }
   ],
   "source": [
    "clé_publique_d_Alice = chiffrement (clé_privée_d_Alice, base_partagé, premier_partagé) \n",
    "print(\"Clée publique d'Alice : \", clé_publique_d_Alice)"
   ]
  },
  {
   "cell_type": "markdown",
   "metadata": {},
   "source": [
    "##### Bob calcul et envoie sa clé publique à Alice:"
   ]
  },
  {
   "cell_type": "code",
   "execution_count": 5,
   "metadata": {},
   "outputs": [
    {
     "name": "stdout",
     "output_type": "stream",
     "text": [
      "Clée publique de Bob :  42360\n"
     ]
    }
   ],
   "source": [
    "clé_publique_de_bob = chiffrement (clé_privée_de_Bob, base_partagé, premier_partagé) \n",
    "print(\"Clée publique de Bob : \", clé_publique_de_bob)"
   ]
  },
  {
   "cell_type": "markdown",
   "metadata": {},
   "source": [
    "### 3) Chacun calcul son secret commun\n",
    "<img src=\"medias/fin.png\" width=\"800\"/>\n",
    "##### Alice calcul le secret partagé"
   ]
  },
  {
   "cell_type": "code",
   "execution_count": 6,
   "metadata": {},
   "outputs": [
    {
     "data": {
      "text/plain": [
       "4195"
      ]
     },
     "execution_count": 6,
     "metadata": {},
     "output_type": "execute_result"
    }
   ],
   "source": [
    "résultat_d_Alice = calcul_secret_partagé(clé_publique_de_bob, clé_privée_d_Alice, premier_partagé)\n",
    "résultat_d_Alice"
   ]
  },
  {
   "cell_type": "markdown",
   "metadata": {},
   "source": [
    "##### Bob calcul le secret partagé"
   ]
  },
  {
   "cell_type": "code",
   "execution_count": 7,
   "metadata": {},
   "outputs": [
    {
     "data": {
      "text/plain": [
       "4195"
      ]
     },
     "execution_count": 7,
     "metadata": {},
     "output_type": "execute_result"
    }
   ],
   "source": [
    "résultat_de_Bob = calcul_secret_partagé(clé_publique_d_Alice, clé_privée_de_Bob, premier_partagé)\n",
    "résultat_de_Bob"
   ]
  },
  {
   "cell_type": "markdown",
   "metadata": {},
   "source": [
    "##### Ils ont bien le même secret partagé, sans l'avoir envoyé sur le réseau"
   ]
  },
  {
   "cell_type": "code",
   "execution_count": 8,
   "metadata": {},
   "outputs": [
    {
     "name": "stdout",
     "output_type": "stream",
     "text": [
      "4195  ==  4195\n"
     ]
    }
   ],
   "source": [
    "print (résultat_d_Alice,\" == \", résultat_de_Bob)"
   ]
  },
  {
   "cell_type": "markdown",
   "metadata": {},
   "source": [
    "Alice et Bob peuvent donc s'envoyer des messages en utilisant le secret commun."
   ]
  },
  {
   "cell_type": "markdown",
   "metadata": {},
   "source": [
    "## Exemple d'implémentation d'attaque\n",
    "### 1) Initialisation\n",
    "<img src=\"medias/initialisation_attaque.png\" width=\"800\"/>\n",
    "##### Alice et Bob prépare chacun une clé privée :"
   ]
  },
  {
   "cell_type": "code",
   "execution_count": 9,
   "metadata": {},
   "outputs": [],
   "source": [
    "clé_privée_d_Alice = 100\n",
    "clé_privée_de_Bob = 200"
   ]
  },
  {
   "cell_type": "markdown",
   "metadata": {},
   "source": [
    "##### Eve prépare aussi une clé privée"
   ]
  },
  {
   "cell_type": "code",
   "execution_count": 10,
   "metadata": {},
   "outputs": [],
   "source": [
    "clé_privée_d_Eve = 300"
   ]
  },
  {
   "cell_type": "markdown",
   "metadata": {},
   "source": [
    "##### Pendant ce temps Eve intercepte la communication entre Bob et Alice.\n",
    "##### Elle se fait passer pour Bob auprès d'Alice et inverssement.\n",
    "\n",
    "##### Eve établie un nombre premier et une base partagé avec Alice et Bob. (Dans cet exemple on garde les mêmes pour Alice et Bob)"
   ]
  },
  {
   "cell_type": "code",
   "execution_count": 11,
   "metadata": {},
   "outputs": [],
   "source": [
    "base_partagé = 1000\n",
    "premier_partagé = 42863"
   ]
  },
  {
   "cell_type": "markdown",
   "metadata": {},
   "source": [
    "### 2) Caclcul et Échange des clées publiques\n",
    "<img src=\"medias/echange_attaque.png\" width=\"800\"/>\n",
    "##### Alice calcule et envoie sa clé publique à Bob (Mais l'envoie en fait à Eve):"
   ]
  },
  {
   "cell_type": "code",
   "execution_count": 12,
   "metadata": {},
   "outputs": [
    {
     "name": "stdout",
     "output_type": "stream",
     "text": [
      "Clé publique d'Alice :  8425\n"
     ]
    }
   ],
   "source": [
    "clé_publique_d_Alice = chiffrement (clé_privée_d_Alice, base_partagé, premier_partagé) \n",
    "print(\"Clé publique d'Alice : \", clé_publique_d_Alice)"
   ]
  },
  {
   "cell_type": "markdown",
   "metadata": {},
   "source": [
    "##### Bob calcul et envoie sa clé publique à Alice (Mais l'envoie en fait à Eve):"
   ]
  },
  {
   "cell_type": "code",
   "execution_count": 13,
   "metadata": {},
   "outputs": [
    {
     "name": "stdout",
     "output_type": "stream",
     "text": [
      "Clée publique de Bob :  42360\n"
     ]
    }
   ],
   "source": [
    "clé_publique_de_Bob = chiffrement (clé_privée_de_Bob, base_partagé, premier_partagé) \n",
    "print(\"Clée publique de Bob : \", clé_publique_de_bob)"
   ]
  },
  {
   "cell_type": "markdown",
   "metadata": {},
   "source": [
    "##### Eve a donc reçue la clé publique d'Alice et de Bob.\n",
    "##### Elle calcule sa clé publique pour Alice et pour Bob et leur envoie."
   ]
  },
  {
   "cell_type": "code",
   "execution_count": 14,
   "metadata": {},
   "outputs": [
    {
     "name": "stdout",
     "output_type": "stream",
     "text": [
      "Clée publique d'Eve pour Alice et Bob :  5662\n"
     ]
    }
   ],
   "source": [
    "clé_publique_d_Eve = chiffrement (clé_privée_d_Eve, base_partagé, premier_partagé) \n",
    "print(\"Clée publique d'Eve pour Alice et Bob : \", clé_publique_d_Eve)"
   ]
  },
  {
   "cell_type": "markdown",
   "metadata": {},
   "source": [
    "### 3) Chacun calcul son secret commun\n",
    "<img src=\"medias/fin_attaque.png\" width=\"800\"/>\n",
    "##### Alice calcul le secret commun avec Bob (Mais en fait c'est avec Eve):"
   ]
  },
  {
   "cell_type": "code",
   "execution_count": 15,
   "metadata": {},
   "outputs": [
    {
     "data": {
      "text/plain": [
       "5450"
      ]
     },
     "execution_count": 15,
     "metadata": {},
     "output_type": "execute_result"
    }
   ],
   "source": [
    "résultat_d_Alice = calcul_secret_partagé(clé_publique_d_Eve, clé_privée_d_Alice, premier_partagé)\n",
    "résultat_d_Alice"
   ]
  },
  {
   "cell_type": "markdown",
   "metadata": {},
   "source": [
    "##### Eve calcul le secret commun pour sa communication avec Alice : "
   ]
  },
  {
   "cell_type": "code",
   "execution_count": 16,
   "metadata": {},
   "outputs": [
    {
     "data": {
      "text/plain": [
       "5450"
      ]
     },
     "execution_count": 16,
     "metadata": {},
     "output_type": "execute_result"
    }
   ],
   "source": [
    "résultat_d_Eve_avec_Alice = calcul_secret_partagé(clé_publique_d_Alice, clé_privée_d_Eve, premier_partagé)\n",
    "résultat_d_Eve_avec_Alice"
   ]
  },
  {
   "cell_type": "markdown",
   "metadata": {},
   "source": [
    "##### Bob calcul le secret commun avec Alice (Mais en fait c'est avec Eve):"
   ]
  },
  {
   "cell_type": "code",
   "execution_count": 17,
   "metadata": {},
   "outputs": [
    {
     "data": {
      "text/plain": [
       "41304"
      ]
     },
     "execution_count": 17,
     "metadata": {},
     "output_type": "execute_result"
    }
   ],
   "source": [
    "résultat_de_Bob = calcul_secret_partagé(clé_publique_d_Eve, clé_privée_de_Bob, premier_partagé)\n",
    "résultat_de_Bob"
   ]
  },
  {
   "cell_type": "markdown",
   "metadata": {},
   "source": [
    "##### Eve calcul le secret commun pour sa communication avec Bob : "
   ]
  },
  {
   "cell_type": "code",
   "execution_count": 18,
   "metadata": {},
   "outputs": [
    {
     "data": {
      "text/plain": [
       "41304"
      ]
     },
     "execution_count": 18,
     "metadata": {},
     "output_type": "execute_result"
    }
   ],
   "source": [
    "résultat_d_Eve_avec_Bob = calcul_secret_partagé(clé_publique_de_Bob, clé_privée_d_Eve, premier_partagé)\n",
    "résultat_d_Eve_avec_Bob"
   ]
  },
  {
   "cell_type": "markdown",
   "metadata": {},
   "source": [
    "Eve peut maintenant déchiffré la communication entre Alice et Bob"
   ]
  },
  {
   "cell_type": "markdown",
   "metadata": {},
   "source": [
    "## Conclusion\n",
    "L'Échange de clé avec Diffie-Hellman est un protocol assez sécurisé.\n",
    "\n",
    "En générale la base utilisée est un très grand nombres qui permet d'éviter les attaques par force brute.\n",
    "Aujourd'hui, on estime que codé la base sur 512 bits ou 718 bits donne un protocol trop faible, 1024 bits n'est pas suffissant n'ont plus face à des organisations étatiques. À partir de 2048 on estime que le protocole est sûre. Néanmoins il faut faire attention aux nouvelles technologies comme les ordinateurs quantitques qui pourraient mettre à mal Diffie-Hellman.\n",
    "\n",
    "L'attaque \"man in the midle\" que nous montrons met en perspective la place des outils cryptographiques dans la sécurité informatique. Dans notre example le principe mathématique n'a pas été cassé mais contourné. La force cryptographique d'une solution est tout aussi importante que son implémentation dans les réseaux."
   ]
  }
 ],
 "metadata": {
  "kernelspec": {
   "display_name": "Python 3",
   "language": "python",
   "name": "python3"
  },
  "language_info": {
   "codemirror_mode": {
    "name": "ipython",
    "version": 3
   },
   "file_extension": ".py",
   "mimetype": "text/x-python",
   "name": "python",
   "nbconvert_exporter": "python",
   "pygments_lexer": "ipython3",
   "version": "3.9.1"
  }
 },
 "nbformat": 4,
 "nbformat_minor": 5
}
